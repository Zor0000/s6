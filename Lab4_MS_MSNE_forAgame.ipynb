{
 "cells": [
  {
   "cell_type": "code",
   "execution_count": 1,
   "id": "6b6f8b8f",
   "metadata": {},
   "outputs": [
    {
     "ename": "ModuleNotFoundError",
     "evalue": "No module named 'nashpy'",
     "output_type": "error",
     "traceback": [
      "\u001b[0;31m---------------------------------------------------------------------------\u001b[0m",
      "\u001b[0;31mModuleNotFoundError\u001b[0m                       Traceback (most recent call last)",
      "Cell \u001b[0;32mIn[1], line 2\u001b[0m\n\u001b[1;32m      1\u001b[0m \u001b[38;5;28;01mimport\u001b[39;00m \u001b[38;5;21;01mnumpy\u001b[39;00m \u001b[38;5;28;01mas\u001b[39;00m \u001b[38;5;21;01mnp\u001b[39;00m\n\u001b[0;32m----> 2\u001b[0m \u001b[38;5;28;01mimport\u001b[39;00m \u001b[38;5;21;01mnashpy\u001b[39;00m \u001b[38;5;28;01mas\u001b[39;00m \u001b[38;5;21;01mnash\u001b[39;00m\n\u001b[1;32m      4\u001b[0m A \u001b[38;5;241m=\u001b[39m np\u001b[38;5;241m.\u001b[39marray([[\u001b[38;5;241m1\u001b[39m,\u001b[38;5;241m3\u001b[39m],\n\u001b[1;32m      5\u001b[0m               [\u001b[38;5;241m0\u001b[39m,\u001b[38;5;241m2\u001b[39m]])\n\u001b[1;32m      7\u001b[0m B \u001b[38;5;241m=\u001b[39m np\u001b[38;5;241m.\u001b[39marray([[\u001b[38;5;241m1\u001b[39m,\u001b[38;5;241m0\u001b[39m],\n\u001b[1;32m      8\u001b[0m               [\u001b[38;5;241m3\u001b[39m,\u001b[38;5;241m2\u001b[39m]])\n",
      "\u001b[0;31mModuleNotFoundError\u001b[0m: No module named 'nashpy'"
     ]
    }
   ],
   "source": [
    "import numpy as np\n",
    "import nashpy as nash\n",
    "\n",
    "A = np.array([[1,3],\n",
    "              [0,2]])\n",
    "\n",
    "B = np.array([[1,0],\n",
    "              [3,2]])\n",
    "\n",
    "game = nash.Game(A,B)\n",
    "print(\"Game Matrix:\")\n",
    "print(game)\n",
    "\n",
    "equilibria = list(game.support_enumeration())\n",
    "\n",
    "print(\"\\nMixed Strategy Equilibrium found:\")\n",
    "\n",
    "for eq in equilibria:\n",
    "  print(f\"Player A : {eq[0]}\")\n",
    "  print(f\"Player B : {eq[1]}\")"
   ]
  }
 ],
 "metadata": {
  "kernelspec": {
   "display_name": "Python 3 (ipykernel)",
   "language": "python",
   "name": "python3"
  },
  "language_info": {
   "codemirror_mode": {
    "name": "ipython",
    "version": 3
   },
   "file_extension": ".py",
   "mimetype": "text/x-python",
   "name": "python",
   "nbconvert_exporter": "python",
   "pygments_lexer": "ipython3",
   "version": "3.12.3"
  }
 },
 "nbformat": 4,
 "nbformat_minor": 5
}
