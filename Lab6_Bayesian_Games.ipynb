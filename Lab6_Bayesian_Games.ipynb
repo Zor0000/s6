{
 "cells": [
  {
   "cell_type": "code",
   "execution_count": 5,
   "id": "3ab6a85e",
   "metadata": {},
   "outputs": [
    {
     "name": "stdout",
     "output_type": "stream",
     "text": [
      "Expected payoff matrix for Player 1 (Bayesian game):\n",
      "[[2.6 1.6]\n",
      " [3.4 1.8]]\n",
      "\n",
      "Best Strategy for Player 1 (Bayesian): Stratergy B\n"
     ]
    }
   ],
   "source": [
    "import numpy as np\n",
    "\n",
    "type_probs = {\"T1\":0.6, \"T2\":0.4}\n",
    "\n",
    "payoff_T1 = np.array([[3,0],\n",
    "                     [5,1]])\n",
    "\n",
    "payoff_T2 = np.array([[2,4],\n",
    "                     [1,3]])\n",
    "\n",
    "expected_payoff = (type_probs[\"T1\"] * payoff_T1) + (type_probs[\"T2\"] * payoff_T2)\n",
    "\n",
    "print(\"Expected payoff matrix for Player 1 (Bayesian game):\")\n",
    "print(np.round(expected_payoff, 2))\n",
    "\n",
    "row_minima = np.min(expected_payoff, axis = 1)\n",
    "best_strategy_index = np.argmax(row_minima)\n",
    "\n",
    "print(f\"\\nBest Strategy for Player 1 (Bayesian): Stratergy {['A','B'] [best_strategy_index]}\")"
   ]
  }
 ],
 "metadata": {
  "kernelspec": {
   "display_name": "Python 3 (ipykernel)",
   "language": "python",
   "name": "python3"
  },
  "language_info": {
   "codemirror_mode": {
    "name": "ipython",
    "version": 3
   },
   "file_extension": ".py",
   "mimetype": "text/x-python",
   "name": "python",
   "nbconvert_exporter": "python",
   "pygments_lexer": "ipython3",
   "version": "3.12.3"
  }
 },
 "nbformat": 4,
 "nbformat_minor": 5
}
