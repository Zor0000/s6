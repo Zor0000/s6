{
 "cells": [
  {
   "cell_type": "code",
   "execution_count": 10,
   "id": "23dee1d1",
   "metadata": {},
   "outputs": [
    {
     "name": "stdout",
     "output_type": "stream",
     "text": [
      "Payoff Matrix:\n",
      "[[3 2]\n",
      " [1 4]]\n",
      "\n",
      " Row minima [2 1]\n",
      "\n",
      " Maximin val (Palyer A): 2\n",
      "\n",
      " Col Maxima [3 4]\n",
      "\n",
      " minimax Value (Palyer B): 3\n",
      "No saddle point\n"
     ]
    }
   ],
   "source": [
    "import numpy as np\n",
    "\n",
    "payoff_matrix = np.array([[3,2],\n",
    "                         [1,4]])\n",
    "\n",
    "rows, cols = payoff_matrix.shape\n",
    "\n",
    "row_minima = np.min(payoff_matrix, axis=1)\n",
    "maximin = np.max(row_minima)\n",
    "\n",
    "col_maxima = np.max(payoff_matrix, axis=0)\n",
    "minimax = np.min(col_maxima)\n",
    "\n",
    "saddle_point = None\n",
    "for i in range(rows):\n",
    "    for j in range(cols):\n",
    "        if payoff_matrix[i,j] == maximin and payoff_matrix[i,j] == minimax:\n",
    "            saddle_point = (i,j)\n",
    "            \n",
    "print(\"Payoff Matrix:\")\n",
    "print(payoff_matrix)\n",
    "\n",
    "print(\"\\n Row minima\", row_minima)\n",
    "print(\"\\n Maximin val (Palyer A):\", maximin)\n",
    "\n",
    "print(\"\\n Col Maxima\", col_maxima)\n",
    "print(\"\\n minimax Value (Palyer B):\", minimax)\n",
    "\n",
    "if saddle_point:\n",
    "     print(f\"\\nSaddle Point found at position {saddle_point} with value {payoff_matrix[saddle_point]}\")\n",
    "else:\n",
    "        print(\"No saddle point\")"
   ]
  }
 ],
 "metadata": {
  "kernelspec": {
   "display_name": "Python 3 (ipykernel)",
   "language": "python",
   "name": "python3"
  },
  "language_info": {
   "codemirror_mode": {
    "name": "ipython",
    "version": 3
   },
   "file_extension": ".py",
   "mimetype": "text/x-python",
   "name": "python",
   "nbconvert_exporter": "python",
   "pygments_lexer": "ipython3",
   "version": "3.12.3"
  }
 },
 "nbformat": 4,
 "nbformat_minor": 5
}
