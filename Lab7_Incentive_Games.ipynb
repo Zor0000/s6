{
 "cells": [
  {
   "cell_type": "code",
   "execution_count": 10,
   "id": "5aa2ad91",
   "metadata": {},
   "outputs": [
    {
     "name": "stdout",
     "output_type": "stream",
     "text": [
      "player 1\n",
      "Player2\n",
      "Player1\n"
     ]
    }
   ],
   "source": [
    "import random\n",
    "\n",
    "#Game1\n",
    "\n",
    "true_price = random.randint(3000,8000)\n",
    "\n",
    "def player_bid(stratergy = \"truthful\"):\n",
    "    if stratergy == \"truthful\":\n",
    "        return true_price\n",
    "    elif stratergy == \"overbid\":\n",
    "        return true_price + random.randint(500,1500)\n",
    "    elif stratergy == \"underbid\":\n",
    "        return true_price + random.randint(500,1000)\n",
    "    \n",
    "bids = {\n",
    "    \"player 1\": player_bid(\"truthful\"),\n",
    "    \"player 2\": player_bid(\"overbid\"),\n",
    "    \"player 3\": player_bid(\"underbid\")\n",
    "}\n",
    "\n",
    "winner = min(bids, key=lambda x: abs(bids[x] - true_price))\n",
    "\n",
    "#Game 2\n",
    "\n",
    "actual_salary = 70000\n",
    "\n",
    "player_estimates = {\n",
    "    \"Player1\" : 65000,\n",
    "    \"Player2\" : 72000,\n",
    "    \"Player3\" : 75000\n",
    "}\n",
    "\n",
    "closest_salary = min(player_estimates, key=lambda x: abs(player_estimates[x] - actual_salary))\n",
    "\n",
    "#Game 3\n",
    "\n",
    "true_value = 120000\n",
    "\n",
    "players = {\n",
    "    \"Player1\" : true_value,\n",
    "    \"Player2\" : true_value + 30000,\n",
    "    \"Player3\" : true_value - 25000\n",
    "}\n",
    "\n",
    "closest_value = min(players, key= lambda x: abs(players[x]-true_value))\n",
    "\n",
    "print(winner)\n",
    "print(closest_salary)\n",
    "print(closest_value)"
   ]
  }
 ],
 "metadata": {
  "kernelspec": {
   "display_name": "Python 3 (ipykernel)",
   "language": "python",
   "name": "python3"
  },
  "language_info": {
   "codemirror_mode": {
    "name": "ipython",
    "version": 3
   },
   "file_extension": ".py",
   "mimetype": "text/x-python",
   "name": "python",
   "nbconvert_exporter": "python",
   "pygments_lexer": "ipython3",
   "version": "3.12.3"
  }
 },
 "nbformat": 4,
 "nbformat_minor": 5
}
